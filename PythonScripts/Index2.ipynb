{
 "cells": [
  {
   "cell_type": "markdown",
   "metadata": {},
   "source": [
    "# Sistema de Predición"
   ]
  },
  {
   "cell_type": "markdown",
   "metadata": {},
   "source": [
    "## Preparación de Datos"
   ]
  },
  {
   "cell_type": "code",
   "execution_count": 2,
   "metadata": {},
   "outputs": [],
   "source": [
    "# libreria arbol decision y procesamiento data\n",
    "import pandas as pd\n",
    "from sklearn.tree import DecisionTreeClassifier\n",
    "from sklearn.model_selection import train_test_split\n",
    "from sklearn.preprocessing import LabelEncoder\n",
    "from sklearn.metrics import accuracy_score\n",
    "\n",
    "#Graficar arbol\n",
    "from sklearn.tree import export_graphviz\n",
    "import matplotlib.pyplot as plt\n",
    "import numpy as np\n",
    "\n",
    "# Carga del archivo con configuraciones para que funcionen con utf-8\n",
    "data = pd.read_csv('data.csv', header=0, encoding='unicode_escape')\n",
    "# Si tuvieran valores nulos\n",
    "data = data.dropna()\n",
    "# Asignar a variables valores de columnas especificas del archivo\n",
    "toc = data.iloc[:, 4].values\n",
    "animo = data.iloc[:, 5].values\n",
    "obediencia = data.iloc[:, 6].values\n",
    "# Borramos columnas que vamos a reemplazar\n",
    "data.drop([ 'animo', 'obediencia', 'fecha'], axis='columns', inplace=True)\n",
    "# Instancia de LabelEncoder\n",
    "LabelEncoder_data = LabelEncoder()\n",
    "# Escalar volver datos string en numeros\n",
    "data['animo'] = LabelEncoder_data.fit_transform(animo)\n",
    "data['obediencia'] = LabelEncoder_data.fit_transform(obediencia)\n",
    "#castear algunas columnas con el tipo de dato correspondiente\n",
    "data = data.astype({\"id_niño\": int, \"actividad\": int, \"categoria_actividad\": int, \"edad\": int, \"tiempo_rsp_seg\": int})\n",
    "#filtrar por edades\n",
    "data = data[(data['edad'] > 4) & (data['edad'] <= 10)]"
   ]
  },
  {
   "cell_type": "markdown",
   "metadata": {},
   "source": [
    "## Entrenamiento Modelos"
   ]
  },
  {
   "cell_type": "code",
   "execution_count": 3,
   "metadata": {},
   "outputs": [],
   "source": [
    "##Le asignamos a una nueva variable los datos que vamos a manejar en el modelo\n",
    "predictors = data[['animo', 'obediencia']]\n",
    "targets = data['TDAH_TOP_TC']\n"
   ]
  },
  {
   "cell_type": "code",
   "execution_count": 4,
   "metadata": {},
   "outputs": [],
   "source": [
    "#Asignamos los labels que va a manejar el arbol\n",
    "predictors_labels = ['obediencia', 'animo']\n",
    "target_label = ['si', 'no']"
   ]
  },
  {
   "cell_type": "code",
   "execution_count": 5,
   "metadata": {},
   "outputs": [],
   "source": [
    "#Obtenemos solo los valores para poder entrenar el arbol\n",
    "x = data.values\n",
    "y = data['TDAH_TOP_TC']"
   ]
  },
  {
   "cell_type": "code",
   "execution_count": 6,
   "metadata": {},
   "outputs": [],
   "source": [
    "#Creamos el train_test_split que \"divide\" la informacin una de entrenamiento 80% y otra de test 20%\n",
    "x_entrena, x_test, y_entrena, y_test = train_test_split(predictors,targets,test_size=0.2, random_state=123)"
   ]
  },
  {
   "cell_type": "markdown",
   "metadata": {},
   "source": [
    "##  Decision Tree Algorithm"
   ]
  },
  {
   "cell_type": "code",
   "execution_count": 15,
   "metadata": {},
   "outputs": [
    {
     "name": "stdout",
     "output_type": "stream",
     "text": [
      "Precisión para Decision Tree Algorithm =  0.5227272727272727\n"
     ]
    }
   ],
   "source": [
    "#Construimos el arbol con una maxima profundida de 3 \n",
    "arbol = DecisionTreeClassifier(max_depth=3)\n",
    "\n",
    "#Entrenamos el arbol con los datos\n",
    "arbol.fit(x_entrena, y_entrena)\n",
    "\n",
    "#probamos la prediccion con datos test\n",
    "arbolpredicc= arbol.predict(x_test)\n",
    "\n",
    "#Porcentaje de Acierto de la prediccion en datos de test\n",
    "precision = arbol.score(x_test,y_test)\n",
    "print(\"Precisión para Decision Tree Algorithm = \" ,precision)"
   ]
  },
  {
   "cell_type": "markdown",
   "metadata": {},
   "source": [
    "## Naive Bayes"
   ]
  },
  {
   "cell_type": "code",
   "execution_count": 14,
   "metadata": {},
   "outputs": [
    {
     "name": "stdout",
     "output_type": "stream",
     "text": [
      "Precisión para Naive Bayes =  0.4772727272727273\n"
     ]
    }
   ],
   "source": [
    "#Importamos libreria y \n",
    "from sklearn.naive_bayes import GaussianNB\n",
    "modelo = GaussianNB()\n",
    "\n",
    "#Entrenamos el modelo\n",
    "modelo.fit(x_entrena,y_entrena)\n",
    "\n",
    "#prediccion con datos test\n",
    "prediccion = modelo.predict(x_test)\n",
    "\n",
    "#Porcentaje de Acierto de la prediccion en datos \n",
    "precision = accuracy_score(prediccion, y_test)\n",
    "print(\"Precisión para Naive Bayes = \" ,precision)"
   ]
  },
  {
   "cell_type": "markdown",
   "metadata": {},
   "source": [
    "##  Nearest Neighbors "
   ]
  },
  {
   "cell_type": "code",
   "execution_count": 10,
   "metadata": {},
   "outputs": [
    {
     "name": "stdout",
     "output_type": "stream",
     "text": [
      "Precisión para Nearest Neighbors =  0.4318181818181818\n"
     ]
    }
   ],
   "source": [
    "from sklearn.neighbors import KNeighborsClassifier\n",
    "modelo = KNeighborsClassifier(n_neighbors = 5, metric = 'minkowski', p = 2)\n",
    "modelo.fit(x_entrena, y_entrena)\n",
    "prediccion = modelo.predict(x_test)\n",
    "\n",
    "#Porcentaje de Acierto de la prediccion en datos \n",
    "precision = accuracy_score(prediccion, y_test)\n",
    "print(\"Precisión para Nearest Neighbors = \" ,precision)"
   ]
  },
  {
   "cell_type": "markdown",
   "metadata": {},
   "source": [
    "## Support Vector Machine"
   ]
  },
  {
   "cell_type": "code",
   "execution_count": 11,
   "metadata": {},
   "outputs": [],
   "source": [
    "from sklearn.svm import SVC"
   ]
  },
  {
   "cell_type": "code",
   "execution_count": 12,
   "metadata": {},
   "outputs": [
    {
     "name": "stdout",
     "output_type": "stream",
     "text": [
      "Precisión para Support Vector Machine =  0.5\n"
     ]
    }
   ],
   "source": [
    "modelo = SVC(kernel='rbf')\n",
    "\n",
    "#Entrenamos el modelo\n",
    "modelo.fit(x_entrena,y_entrena)\n",
    "\n",
    "#prediccion con datos test\n",
    "prediccion = modelo.predict(x_test)\n",
    "\n",
    "#Porcentaje de Acierto de la prediccion en datos \n",
    "precision = accuracy_score(prediccion, y_test)\n",
    "print(\"Precisión para Support Vector Machine = \" ,precision)"
   ]
  },
  {
   "cell_type": "markdown",
   "metadata": {},
   "source": [
    "## Random Forest Classification "
   ]
  },
  {
   "cell_type": "code",
   "execution_count": 16,
   "metadata": {},
   "outputs": [],
   "source": [
    "from sklearn.ensemble import RandomForestClassifier"
   ]
  },
  {
   "cell_type": "code",
   "execution_count": 17,
   "metadata": {},
   "outputs": [
    {
     "name": "stdout",
     "output_type": "stream",
     "text": [
      "Precisión para Random Forest Classification =  0.5681818181818182\n"
     ]
    }
   ],
   "source": [
    "modelo = RandomForestClassifier()\n",
    "\n",
    "#Entrenamos el modelo\n",
    "modelo.fit(x_entrena,y_entrena)\n",
    "\n",
    "#prediccion con datos test\n",
    "prediccion = modelo.predict(x_test)\n",
    "\n",
    "#Porcentaje de Acierto de la prediccion en datos \n",
    "precision = accuracy_score(prediccion, y_test)\n",
    "print(\"Precisión para Random Forest Classification = \" ,precision)"
   ]
  },
  {
   "cell_type": "markdown",
   "metadata": {},
   "source": [
    "## Logistic Regression "
   ]
  },
  {
   "cell_type": "code",
   "execution_count": 7,
   "metadata": {},
   "outputs": [],
   "source": [
    "from sklearn.linear_model import LogisticRegression"
   ]
  },
  {
   "cell_type": "code",
   "execution_count": 9,
   "metadata": {},
   "outputs": [
    {
     "name": "stdout",
     "output_type": "stream",
     "text": [
      "Precisión para Logistic Regression =  0.45454545454545453\n"
     ]
    }
   ],
   "source": [
    "modelo = LogisticRegression()\n",
    "\n",
    "#Entrenamos el modelo\n",
    "modelo.fit(x_entrena,y_entrena)\n",
    "\n",
    "#prediccion con datos test\n",
    "prediccion = modelo.predict(x_test)\n",
    "\n",
    "#Porcentaje de Acierto de la prediccion en datos \n",
    "precision = accuracy_score(prediccion, y_test)\n",
    "print(\"Precisión para Logistic Regression = \" ,precision)"
   ]
  },
  {
   "cell_type": "code",
   "execution_count": null,
   "metadata": {},
   "outputs": [],
   "source": []
  }
 ],
 "metadata": {
  "kernelspec": {
   "display_name": "Python 3",
   "language": "python",
   "name": "python3"
  },
  "language_info": {
   "codemirror_mode": {
    "name": "ipython",
    "version": 3
   },
   "file_extension": ".py",
   "mimetype": "text/x-python",
   "name": "python",
   "nbconvert_exporter": "python",
   "pygments_lexer": "ipython3",
   "version": "3.6.13"
  }
 },
 "nbformat": 4,
 "nbformat_minor": 2
}
