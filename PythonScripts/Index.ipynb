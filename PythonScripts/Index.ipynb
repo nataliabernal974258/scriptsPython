{
 "cells": [
  {
   "cell_type": "markdown",
   "metadata": {},
   "source": [
    "# Sistema de Predición"
   ]
  },
  {
   "cell_type": "markdown",
   "metadata": {},
   "source": [
    "## Preparación de Datos"
   ]
  },
  {
   "cell_type": "code",
   "execution_count": 2,
   "metadata": {},
   "outputs": [],
   "source": [
    "# libreria arbol decision y procesamiento data\n",
    "import pandas as pd\n",
    "from sklearn.tree import DecisionTreeClassifier\n",
    "from sklearn.model_selection import train_test_split\n",
    "from sklearn.preprocessing import LabelEncoder\n",
    "\n",
    "#Graficar arbol\n",
    "from sklearn.tree import export_graphviz\n",
    "\n",
    "import matplotlib.pyplot as plt\n",
    "import numpy as np\n",
    "\n"
   ]
  },
  {
   "cell_type": "code",
   "execution_count": 3,
   "metadata": {},
   "outputs": [],
   "source": [
    "# Carga del archivo con configuraciones para que funcionen con utf-8\n",
    "data = pd.read_csv('data.csv', header=0, encoding='unicode_escape')"
   ]
  },
  {
   "cell_type": "code",
   "execution_count": 4,
   "metadata": {},
   "outputs": [],
   "source": [
    "# Si tuvieran valores nulos\n",
    "data = data.dropna()"
   ]
  },
  {
   "cell_type": "code",
   "execution_count": 5,
   "metadata": {},
   "outputs": [],
   "source": [
    "# Asignar a variables valores de columnas especificas del archivo\n",
    "toc = data.iloc[:, 4].values\n",
    "animo = data.iloc[:, 5].values\n",
    "obediencia = data.iloc[:, 6].values\n",
    "\n",
    "# Borramos columnas que vamos a reemplazar\n",
    "data.drop([ 'animo', 'obediencia', 'fecha'], axis='columns', inplace=True)"
   ]
  },
  {
   "cell_type": "code",
   "execution_count": 6,
   "metadata": {},
   "outputs": [],
   "source": [
    "# Instancia de LabelEncoder\n",
    "LabelEncoder_data = LabelEncoder()\n",
    "\n",
    "# Escalar volver datos string en numeros\n",
    "data['animo'] = LabelEncoder_data.fit_transform(animo)\n",
    "data['obediencia'] = LabelEncoder_data.fit_transform(obediencia)\n"
   ]
  },
  {
   "cell_type": "code",
   "execution_count": 7,
   "metadata": {},
   "outputs": [],
   "source": [
    "#castear algunas columnas con el tipo de dato correspondiente\n",
    "data = data.astype({\"id_niño\": int, \"actividad\": int, \"categoria_actividad\": int, \"edad\": int, \"tiempo_rsp_seg\": int})"
   ]
  },
  {
   "cell_type": "code",
   "execution_count": 8,
   "metadata": {},
   "outputs": [],
   "source": [
    "#filtrar por edades\n",
    "data = data[(data['edad'] > 4) & (data['edad'] <= 10)]"
   ]
  },
  {
   "cell_type": "markdown",
   "metadata": {},
   "source": [
    "## Entrenamiento Modelo"
   ]
  },
  {
   "cell_type": "code",
   "execution_count": 9,
   "metadata": {},
   "outputs": [
    {
     "data": {
      "text/html": [
       "<div>\n",
       "<style scoped>\n",
       "    .dataframe tbody tr th:only-of-type {\n",
       "        vertical-align: middle;\n",
       "    }\n",
       "\n",
       "    .dataframe tbody tr th {\n",
       "        vertical-align: top;\n",
       "    }\n",
       "\n",
       "    .dataframe thead th {\n",
       "        text-align: right;\n",
       "    }\n",
       "</style>\n",
       "<table border=\"1\" class=\"dataframe\">\n",
       "  <thead>\n",
       "    <tr style=\"text-align: right;\">\n",
       "      <th></th>\n",
       "      <th>animo</th>\n",
       "      <th>obediencia</th>\n",
       "    </tr>\n",
       "  </thead>\n",
       "  <tbody>\n",
       "    <tr>\n",
       "      <th>0</th>\n",
       "      <td>5</td>\n",
       "      <td>0</td>\n",
       "    </tr>\n",
       "    <tr>\n",
       "      <th>1</th>\n",
       "      <td>5</td>\n",
       "      <td>0</td>\n",
       "    </tr>\n",
       "    <tr>\n",
       "      <th>5</th>\n",
       "      <td>3</td>\n",
       "      <td>1</td>\n",
       "    </tr>\n",
       "    <tr>\n",
       "      <th>6</th>\n",
       "      <td>3</td>\n",
       "      <td>1</td>\n",
       "    </tr>\n",
       "    <tr>\n",
       "      <th>7</th>\n",
       "      <td>5</td>\n",
       "      <td>1</td>\n",
       "    </tr>\n",
       "    <tr>\n",
       "      <th>...</th>\n",
       "      <td>...</td>\n",
       "      <td>...</td>\n",
       "    </tr>\n",
       "    <tr>\n",
       "      <th>539</th>\n",
       "      <td>2</td>\n",
       "      <td>0</td>\n",
       "    </tr>\n",
       "    <tr>\n",
       "      <th>543</th>\n",
       "      <td>4</td>\n",
       "      <td>0</td>\n",
       "    </tr>\n",
       "    <tr>\n",
       "      <th>544</th>\n",
       "      <td>0</td>\n",
       "      <td>0</td>\n",
       "    </tr>\n",
       "    <tr>\n",
       "      <th>545</th>\n",
       "      <td>5</td>\n",
       "      <td>0</td>\n",
       "    </tr>\n",
       "    <tr>\n",
       "      <th>548</th>\n",
       "      <td>2</td>\n",
       "      <td>1</td>\n",
       "    </tr>\n",
       "  </tbody>\n",
       "</table>\n",
       "<p>217 rows × 2 columns</p>\n",
       "</div>"
      ],
      "text/plain": [
       "     animo  obediencia\n",
       "0        5           0\n",
       "1        5           0\n",
       "5        3           1\n",
       "6        3           1\n",
       "7        5           1\n",
       "..     ...         ...\n",
       "539      2           0\n",
       "543      4           0\n",
       "544      0           0\n",
       "545      5           0\n",
       "548      2           1\n",
       "\n",
       "[217 rows x 2 columns]"
      ]
     },
     "execution_count": 9,
     "metadata": {},
     "output_type": "execute_result"
    }
   ],
   "source": [
    "##Le asignamos a una nueva variable los datos que vamos a manejar en el modelo\n",
    "predictors = data[['animo', 'obediencia']]\n",
    "targets = data['TDAH_TOP_TC']\n",
    "\n",
    "predictors"
   ]
  },
  {
   "cell_type": "code",
   "execution_count": 10,
   "metadata": {},
   "outputs": [],
   "source": [
    "#Asignamos los labels que va a manejar el arbol\n",
    "predictors_labels = ['obediencia', 'animo']\n",
    "target_label = ['si', 'no']"
   ]
  },
  {
   "cell_type": "code",
   "execution_count": 11,
   "metadata": {},
   "outputs": [],
   "source": [
    "#Obtenemos solo los valores para poder entrenar el arbol\n",
    "x = data.values\n",
    "y = data['TDAH_TOP_TC']"
   ]
  },
  {
   "cell_type": "code",
   "execution_count": 12,
   "metadata": {},
   "outputs": [],
   "source": [
    "#Creamos el train_test_split que \"divide\" la informacin una de entrenamiento 80% y otra de test 20%\n",
    "x_entrena, x_test, y_entrena, y_test = train_test_split(predictors,targets,test_size=0.2, random_state=123)"
   ]
  },
  {
   "cell_type": "code",
   "execution_count": 13,
   "metadata": {},
   "outputs": [
    {
     "name": "stdout",
     "output_type": "stream",
     "text": [
      "entrena (173, 2) (173,)\n",
      "test (44, 2) (44,)\n"
     ]
    }
   ],
   "source": [
    "#imprimimos division de data para test y entrenamiento\n",
    "print(\"entrena\", x_entrena.shape, y_entrena.shape)\n",
    "print(\"test\", x_test.shape, y_test.shape)"
   ]
  },
  {
   "cell_type": "code",
   "execution_count": 14,
   "metadata": {},
   "outputs": [],
   "source": [
    "#Construimos el arbol con una maxima profundida de 4 \n",
    "arbol = DecisionTreeClassifier(max_depth=3)"
   ]
  },
  {
   "cell_type": "code",
   "execution_count": 15,
   "metadata": {},
   "outputs": [
    {
     "data": {
      "text/plain": [
       "DecisionTreeClassifier(max_depth=3)"
      ]
     },
     "execution_count": 15,
     "metadata": {},
     "output_type": "execute_result"
    }
   ],
   "source": [
    "#Entrenamos el arbol con los datos\n",
    "arbol.fit(x_entrena, y_entrena)"
   ]
  },
  {
   "cell_type": "code",
   "execution_count": 16,
   "metadata": {},
   "outputs": [
    {
     "data": {
      "text/plain": [
       "array(['si', 'no', 'si', 'no', 'no', 'no', 'no', 'no', 'si', 'si', 'no',\n",
       "       'si', 'no', 'no', 'si', 'no', 'si', 'no', 'no', 'si', 'si', 'no',\n",
       "       'no', 'no', 'si', 'si', 'si', 'si', 'no', 'no', 'no', 'si', 'si',\n",
       "       'si', 'si', 'si', 'si', 'no', 'no', 'si', 'no', 'si', 'si', 'no'],\n",
       "      dtype=object)"
      ]
     },
     "execution_count": 16,
     "metadata": {},
     "output_type": "execute_result"
    }
   ],
   "source": [
    "#probamos la prediccion con datos test\n",
    "arbolpredicc= arbol.predict(x_test)\n",
    "arbolpredicc"
   ]
  },
  {
   "cell_type": "markdown",
   "metadata": {},
   "source": [
    "## Evaluar Prediccion"
   ]
  },
  {
   "cell_type": "code",
   "execution_count": 17,
   "metadata": {},
   "outputs": [
    {
     "data": {
      "text/plain": [
       "0.5227272727272727"
      ]
     },
     "execution_count": 17,
     "metadata": {},
     "output_type": "execute_result"
    }
   ],
   "source": [
    "#Porcentaje de Acierto de la prediccion en datos de test\n",
    "arbol.score(x_test,y_test)"
   ]
  },
  {
   "cell_type": "code",
   "execution_count": 18,
   "metadata": {},
   "outputs": [
    {
     "data": {
      "text/plain": [
       "0.5953757225433526"
      ]
     },
     "execution_count": 18,
     "metadata": {},
     "output_type": "execute_result"
    }
   ],
   "source": [
    "#Porcentaje de Acierto de la prediccion en datos de entrenamiento\n",
    "arbol.score(x_entrena,y_entrena)"
   ]
  },
  {
   "cell_type": "markdown",
   "metadata": {},
   "source": [
    "## Visualizar Arbol"
   ]
  },
  {
   "cell_type": "code",
   "execution_count": 19,
   "metadata": {},
   "outputs": [
    {
     "name": "stdout",
     "output_type": "stream",
     "text": [
      "|--- feature_0 <= 0.50\n",
      "|   |--- feature_1 <= 0.50\n",
      "|   |   |--- class: no\n",
      "|   |--- feature_1 >  0.50\n",
      "|   |   |--- class: no\n",
      "|--- feature_0 >  0.50\n",
      "|   |--- feature_1 <= 0.50\n",
      "|   |   |--- feature_0 <= 3.50\n",
      "|   |   |   |--- class: si\n",
      "|   |   |--- feature_0 >  3.50\n",
      "|   |   |   |--- class: no\n",
      "|   |--- feature_1 >  0.50\n",
      "|   |   |--- feature_0 <= 4.50\n",
      "|   |   |   |--- class: no\n",
      "|   |   |--- feature_0 >  4.50\n",
      "|   |   |   |--- class: si\n",
      "\n"
     ]
    }
   ],
   "source": [
    "#Visualizamos el arbol en forma de texto\n",
    "from sklearn import tree\n",
    "text_representation = tree.export_text(arbol)\n",
    "print(text_representation)"
   ]
  },
  {
   "cell_type": "code",
   "execution_count": 20,
   "metadata": {},
   "outputs": [
    {
     "name": "stdout",
     "output_type": "stream",
     "text": [
      "Profundidad del árbol: 3\n",
      "Número de nodos terminales: 6\n"
     ]
    },
    {
     "data": {
      "image/png": "[encoded data removed]",
      "text/plain": [
       "<Figure size 864x360 with 1 Axes>"
      ]
     },
     "metadata": {
      "needs_background": "light"
     },
     "output_type": "display_data"
    }
   ],
   "source": [
    "# Gráficar arbol\n",
    "import matplotlib.pyplot as plt\n",
    "from sklearn.tree import plot_tree\n",
    "\n",
    "\n",
    "fig, ax = plt.subplots(figsize=(12, 5))\n",
    "\n",
    "print(f\"Profundidad del árbol: {arbol.get_depth()}\")\n",
    "print(f\"Número de nodos terminales: {arbol.get_n_leaves()}\")\n",
    "\n",
    "plot = plot_tree(\n",
    "    \n",
    "            decision_tree = arbol,\n",
    "            feature_names = predictors_labels,\n",
    "            class_names   = target_label,\n",
    "            filled        = True,\n",
    "            impurity      = False,\n",
    "            fontsize      = 9,\n",
    "            precision     = 2,\n",
    "            ax            = ax\n",
    "       )\n",
    "plt.savefig(\"arbol.png\")"
   ]
  },
  {
   "cell_type": "code",
   "execution_count": null,
   "metadata": {},
   "outputs": [],
   "source": []
  },
  {
   "cell_type": "code",
   "execution_count": null,
   "metadata": {},
   "outputs": [],
   "source": []
  },
  {
   "cell_type": "code",
   "execution_count": null,
   "metadata": {},
   "outputs": [],
   "source": []
  }
 ],
 "metadata": {
  "kernelspec": {
   "display_name": "Python 3",
   "language": "python",
   "name": "python3"
  },
  "language_info": {
   "codemirror_mode": {
    "name": "ipython",
    "version": 3
   },
   "file_extension": ".py",
   "mimetype": "text/x-python",
   "name": "python",
   "nbconvert_exporter": "python",
   "pygments_lexer": "ipython3",
   "version": "3.6.13"
  }
 },
 "nbformat": 4,
 "nbformat_minor": 2
}
